{
 "cells": [
  {
   "cell_type": "code",
   "execution_count": 4,
   "metadata": {},
   "outputs": [],
   "source": [
    "import pandas as pd\n",
    "from pathlib import Path\n",
    "\n",
    "output_file = './tsv/Second_Phase_Dataset.tsv'\n",
    "folder_path = './AICUP/Second_Phase_Dataset/Second_Phase_Dataset/Second_Phase_Text_Dataset'\n",
    "\n",
    "def extract_number_from_filename(file_path):\n",
    "    return int(''.join(filter(str.isdigit, file_path.stem)))\n",
    "\n",
    "# 創建一個空的 DataFrame\n",
    "df = pd.DataFrame(columns=['fid', 'idx', 'context', 'label'])\n",
    "data_list = []\n",
    "\n",
    "file_list = sorted(Path(folder_path).rglob('*.txt'), key=extract_number_from_filename)\n",
    "\n",
    "for file_path in file_list:\n",
    "    with open(file_path, 'r', encoding='utf-8') as file:\n",
    "        char_position = 0\n",
    "        for idx, line in enumerate(file, start=1):\n",
    "            if line.strip():\n",
    "                data_list.append({'fid': file_path.stem, 'idx': char_position, 'context': line.strip().replace('\\t',' '), 'label': 'PHI: NULL'})\n",
    "                char_position += len(line.rstrip('\\n'))\n",
    "\n",
    "df = pd.DataFrame(data_list)\n",
    "df.reset_index(drop=True, inplace=True)\n"
   ]
  },
  {
   "cell_type": "code",
   "execution_count": null,
   "metadata": {},
   "outputs": [],
   "source": [
    "fid_set = set(df['fid'].values)\n",
    "print(fid_set)\n",
    "fid = '1534'\n",
    "context = 'SAN REMO'\n",
    "label = 'goodcha'\n",
    "if fid in fid_set:\n",
    "    matching_rows = df[(df['fid'] == fid) & (df['context'].str.contains(context, regex=False))]\n",
    "    if not matching_rows.empty:\n",
    "        row_index = matching_rows.index[0]\n",
    "        select = df.at[row_index, 'label']\n",
    "        print(select)\n",
    "        if select == 'PHI: NULL':\n",
    "            df.at[row_index, 'label'] = f'{label}: {context}'\n",
    "        else:\n",
    "            df.at[row_index, 'label'] = select+f'\\\\n{label}: {context}'"
   ]
  },
  {
   "cell_type": "code",
   "execution_count": 6,
   "metadata": {},
   "outputs": [],
   "source": [
    "with open('./AICUP/Second_Phase_Dataset/Second_Phase_Dataset/answer.txt', 'r') as ansfile:\n",
    "    lines = ansfile.readlines()\n",
    "fid_set = set(df['fid'].values)\n",
    "for line in lines:\n",
    "    splite = line.split('\\t')\n",
    "    fid, label, context = splite[0], splite[1], splite[4]\n",
    "    context = context.strip()\n",
    "    if fid in fid_set:\n",
    "        matching_rows = df[(df['fid'] == fid) & (df['context'].str.contains(context, regex=False))]\n",
    "        if not matching_rows.empty:\n",
    "            row_index = matching_rows.index[0]\n",
    "            select = df.at[row_index, 'label']\n",
    "            if select == 'PHI: NULL':\n",
    "                 df.at[row_index, 'label'] = f'{label}: {context}'\n",
    "            elif select != context:\n",
    "                 df.at[row_index, 'label'] = select+f'\\\\n{label}: {context}'"
   ]
  },
  {
   "cell_type": "code",
   "execution_count": 7,
   "metadata": {},
   "outputs": [],
   "source": [
    "# 將 DataFrame 儲存到 TSV 檔案\n",
    "df.to_csv(output_file, sep='\\t', index=False, header=False, encoding='utf-8')"
   ]
  },
  {
   "cell_type": "code",
   "execution_count": null,
   "metadata": {},
   "outputs": [],
   "source": [
    "import pandas as pd\n",
    "from pathlib import Path\n",
    "\n",
    "output_file = 'valid.tsv'\n",
    "folder_path = '/home/hpds/cheng/bert-eng/AICUP/First_Phase_Release(Correction)/Validation_Release'\n",
    "\n",
    "def extract_number_from_filename(file_path):\n",
    "    return int(''.join(filter(str.isdigit, file_path.stem)))\n",
    "\n",
    "# 創建一個空的 DataFrame\n",
    "df = pd.DataFrame(columns=['fid', 'idx', 'context'])\n",
    "data_list = []\n",
    "\n",
    "file_list = sorted(Path(folder_path).rglob('*.txt'), key=extract_number_from_filename)\n",
    "\n",
    "for file_path in file_list:\n",
    "    with open(file_path, 'r', encoding='utf-8') as file:\n",
    "        char_position = 1\n",
    "        for idx, line in enumerate(file, start=1):\n",
    "            if line.strip():\n",
    "                data_list.append({'fid': file_path.stem, 'idx': char_position, 'context': line.rstrip('\\n').replace('\\t',' ')})\n",
    "                char_position += len(line.rstrip('\\n'))\n",
    "\n",
    "df = pd.DataFrame(data_list)\n",
    "df.reset_index(drop=True, inplace=True)\n",
    "# 將 DataFrame 儲存到 TSV 檔案\n",
    "df.to_csv(output_file, sep='\\t', index=False, header=False, encoding='utf-8')"
   ]
  }
 ],
 "metadata": {
  "kernelspec": {
   "display_name": "knn-training",
   "language": "python",
   "name": "python3"
  },
  "language_info": {
   "codemirror_mode": {
    "name": "ipython",
    "version": 3
   },
   "file_extension": ".py",
   "mimetype": "text/x-python",
   "name": "python",
   "nbconvert_exporter": "python",
   "pygments_lexer": "ipython3",
   "version": "3.9.17"
  }
 },
 "nbformat": 4,
 "nbformat_minor": 2
}
